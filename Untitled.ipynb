{
 "cells": [
  {
   "cell_type": "code",
   "execution_count": 1,
   "metadata": {},
   "outputs": [
    {
     "name": "stdout",
     "output_type": "stream",
     "text": [
      "11\n"
     ]
    }
   ],
   "source": [
    "print(3 + 8)"
   ]
  },
  {
   "cell_type": "code",
   "execution_count": 2,
   "metadata": {},
   "outputs": [
    {
     "name": "stdout",
     "output_type": "stream",
     "text": [
      "6\n"
     ]
    }
   ],
   "source": [
    "print(len('square'))"
   ]
  },
  {
   "cell_type": "code",
   "execution_count": 3,
   "metadata": {},
   "outputs": [
    {
     "name": "stdout",
     "output_type": "stream",
     "text": [
      "256\n"
     ]
    }
   ],
   "source": [
    "print(2**8)"
   ]
  },
  {
   "cell_type": "code",
   "execution_count": 1,
   "metadata": {},
   "outputs": [],
   "source": [
    "fruits = ['mango', 'kiwi', 'strawberry', 'guava', 'pineapple', 'mandarin orange']\n",
    "\n",
    "numbers = [2, 3, 4, 5, 6, 7, 8, 9, 10, 11, 13, 17, 19, 23, 256, -8, -4, -2, 5, -9]\n"
   ]
  },
  {
   "cell_type": "code",
   "execution_count": 2,
   "metadata": {},
   "outputs": [
    {
     "name": "stdout",
     "output_type": "stream",
     "text": [
      "['mango', 'kiwi', 'strawberry', 'guava', 'pineapple', 'mandarin orange']\n"
     ]
    }
   ],
   "source": [
    "print(fruits)"
   ]
  },
  {
   "cell_type": "code",
   "execution_count": 4,
   "metadata": {},
   "outputs": [
    {
     "name": "stdout",
     "output_type": "stream",
     "text": [
      "['MANGO', 'KIWI', 'STRAWBERRY', 'GUAVA', 'PINEAPPLE', 'MANDARIN ORANGE']\n"
     ]
    }
   ],
   "source": [
    "uppercased_fruits = [x.upper() for x in fruits]\n",
    "print(uppercased_fruits)"
   ]
  },
  {
   "cell_type": "code",
   "execution_count": 17,
   "metadata": {},
   "outputs": [
    {
     "name": "stdout",
     "output_type": "stream",
     "text": [
      "['Mango', 'Kiwi', 'Strawberry', 'Guava', 'Pineapple', 'Mandarin orange', 'Plum', 'Cherry']\n"
     ]
    }
   ],
   "source": [
    "capital_fruits = [x.capitalize() for x in fruits]\n",
    "print(capital_fruits)"
   ]
  },
  {
   "cell_type": "code",
   "execution_count": 16,
   "metadata": {},
   "outputs": [
    {
     "name": "stdout",
     "output_type": "stream",
     "text": [
      "['mango', 'kiwi', 'strawberry', 'guava', 'pineapple', 'mandarin orange']\n"
     ]
    }
   ],
   "source": [
    "vowels = 'aeiouAEIOU'\n",
    "fruits_with_more_than_two_vowels = []\n",
    "count = 0\n",
    "for x in fruits:\n",
    "    for char in x:\n",
    "        if char in vowels:\n",
    "            count = count + 1\n",
    "    if count >= 2:\n",
    "        fruits_with_more_than_two_vowels.append(x)\n",
    "    count = 0\n",
    "print(fruits_with_more_than_two_vowels)"
   ]
  },
  {
   "cell_type": "code",
   "execution_count": 19,
   "metadata": {},
   "outputs": [
    {
     "name": "stdout",
     "output_type": "stream",
     "text": [
      "['mango', 'kiwi', 'strawberry']\n"
     ]
    }
   ],
   "source": [
    "vowels = 'aeiouAEIOU'\n",
    "fruits_with_only_two_vowels = []\n",
    "count = 0\n",
    "for x in fruits:\n",
    "    for char in x:\n",
    "        if char in vowels:\n",
    "            count = count + 1\n",
    "    if count == 2:\n",
    "        fruits_with_only_two_vowels.append(x)\n",
    "    count = 0\n",
    "print(fruits_with_only_two_vowels)"
   ]
  },
  {
   "cell_type": "code",
   "execution_count": 2,
   "metadata": {},
   "outputs": [
    {
     "name": "stdout",
     "output_type": "stream",
     "text": [
      "['kiwi']\n"
     ]
    }
   ],
   "source": [
    "fruits_less_five = []\n",
    "for x in fruits:\n",
    "    if len(x) < 5:\n",
    "        fruits_less_five.append(x)\n",
    "print(fruits_less_five)"
   ]
  },
  {
   "cell_type": "code",
   "execution_count": 6,
   "metadata": {},
   "outputs": [
    {
     "name": "stdout",
     "output_type": "stream",
     "text": [
      "Whay day is it: Monday\n",
      "It is Monday\n"
     ]
    }
   ],
   "source": [
    "day = input(\"Whay day is it: \")\n",
    "if str(day).lower() == \"monday\":\n",
    "    print(\"It is Monday\")\n",
    "else:\n",
    "    print(\"It most certainly is not Monday\")"
   ]
  },
  {
   "cell_type": "code",
   "execution_count": 10,
   "metadata": {},
   "outputs": [
    {
     "name": "stdout",
     "output_type": "stream",
     "text": [
      "What day is it :sunday\n",
      "WEEKEND BABY\n"
     ]
    }
   ],
   "source": [
    "weekday = input(\"What day is it : \")\n",
    "if str(weekday).lower() == \"saturday\" or str(weekday).lower() == \"sunday\":\n",
    "    print(\"WEEKEND BABY\")\n",
    "else:\n",
    "    print(\"It's a weekday\")"
   ]
  },
  {
   "cell_type": "code",
   "execution_count": 15,
   "metadata": {},
   "outputs": [
    {
     "name": "stdout",
     "output_type": "stream",
     "text": [
      "How many hours have you worked this week? 5\n",
      "100.0\n"
     ]
    }
   ],
   "source": [
    "rate = 20\n",
    "hours = input(\"How many hours have you worked this week? \")\n",
    "if float(hours) <= 40:\n",
    "    paycheck = rate * float(hours)\n",
    "else:\n",
    "    paycheck = (40 * rate) + ((float(hours) - 40) * rate * 1.5)\n",
    "print(paycheck)"
   ]
  },
  {
   "cell_type": "code",
   "execution_count": 19,
   "metadata": {},
   "outputs": [
    {
     "name": "stdout",
     "output_type": "stream",
     "text": [
      "5\n",
      "6\n",
      "7\n",
      "8\n",
      "9\n",
      "10\n",
      "11\n",
      "12\n",
      "13\n",
      "14\n",
      "15\n"
     ]
    }
   ],
   "source": [
    "i = 5\n",
    "while i <= 15:\n",
    "    print(i)\n",
    "    i = i + 1"
   ]
  },
  {
   "cell_type": "code",
   "execution_count": 20,
   "metadata": {},
   "outputs": [
    {
     "name": "stdout",
     "output_type": "stream",
     "text": [
      "0\n",
      "2\n",
      "4\n",
      "6\n",
      "8\n",
      "10\n",
      "12\n",
      "14\n",
      "16\n",
      "18\n",
      "20\n",
      "22\n",
      "24\n",
      "26\n",
      "28\n",
      "30\n",
      "32\n",
      "34\n",
      "36\n",
      "38\n",
      "40\n",
      "42\n",
      "44\n",
      "46\n",
      "48\n",
      "50\n",
      "52\n",
      "54\n",
      "56\n",
      "58\n",
      "60\n",
      "62\n",
      "64\n",
      "66\n",
      "68\n",
      "70\n",
      "72\n",
      "74\n",
      "76\n",
      "78\n",
      "80\n",
      "82\n",
      "84\n",
      "86\n",
      "88\n",
      "90\n",
      "92\n",
      "94\n",
      "96\n",
      "98\n",
      "100\n"
     ]
    }
   ],
   "source": [
    "x = 0\n",
    "while x <= 100:\n",
    "    print(x)\n",
    "    x = x + 2"
   ]
  },
  {
   "cell_type": "code",
   "execution_count": 21,
   "metadata": {},
   "outputs": [
    {
     "name": "stdout",
     "output_type": "stream",
     "text": [
      "100\n",
      "95\n",
      "90\n",
      "85\n",
      "80\n",
      "75\n",
      "70\n",
      "65\n",
      "60\n",
      "55\n",
      "50\n",
      "45\n",
      "40\n",
      "35\n",
      "30\n",
      "25\n",
      "20\n",
      "15\n",
      "10\n",
      "5\n",
      "0\n",
      "-5\n",
      "-10\n"
     ]
    }
   ],
   "source": [
    "x = 100\n",
    "while x >= -10:\n",
    "    print(x)\n",
    "    x = x - 5"
   ]
  },
  {
   "cell_type": "code",
   "execution_count": 22,
   "metadata": {},
   "outputs": [
    {
     "name": "stdout",
     "output_type": "stream",
     "text": [
      "2\n",
      "4\n",
      "16\n",
      "256\n",
      "65536\n"
     ]
    }
   ],
   "source": [
    "x = 2\n",
    "while x <= 1000000:\n",
    "    print(x)\n",
    "    x = x**2"
   ]
  },
  {
   "cell_type": "code",
   "execution_count": 26,
   "metadata": {},
   "outputs": [
    {
     "name": "stdout",
     "output_type": "stream",
     "text": [
      "100\n",
      "95\n",
      "90\n",
      "85\n",
      "80\n",
      "75\n",
      "70\n",
      "65\n",
      "60\n",
      "55\n",
      "50\n",
      "45\n",
      "40\n",
      "35\n",
      "30\n",
      "25\n",
      "20\n",
      "15\n",
      "10\n",
      "5\n"
     ]
    }
   ],
   "source": [
    "x = 100\n",
    "while x >= 5:\n",
    "    print(x)\n",
    "    x = x - 5"
   ]
  },
  {
   "cell_type": "code",
   "execution_count": 41,
   "metadata": {},
   "outputs": [
    {
     "name": "stdout",
     "output_type": "stream",
     "text": [
      "Gimme a number we're doing math, loser: 12\n",
      "12 X 1 = 12\n",
      "12 X 2 = 24\n",
      "12 X 3 = 36\n",
      "12 X 4 = 48\n",
      "12 X 5 = 60\n",
      "12 X 6 = 72\n",
      "12 X 7 = 84\n",
      "12 X 8 = 96\n",
      "12 X 9 = 108\n",
      "12 X 10 = 120\n"
     ]
    }
   ],
   "source": [
    "number = input(\"Gimme a number we're doing math, loser: \")\n",
    "for i in range(1, 11):\n",
    "    print(str(number) + \" \" + \"X\" + \" \" + str(i) \n",
    "    + \" \" + \"=\" + \" \" + str(int(number) * i))"
   ]
  },
  {
   "cell_type": "code",
   "execution_count": 47,
   "metadata": {},
   "outputs": [
    {
     "name": "stdout",
     "output_type": "stream",
     "text": [
      "1\n",
      "22\n",
      "333\n",
      "4444\n",
      "55555\n",
      "666666\n",
      "7777777\n",
      "88888888\n",
      "999999999\n"
     ]
    }
   ],
   "source": [
    "for i in range(1, 10):\n",
    "    print(i * str(i))"
   ]
  },
  {
   "cell_type": "code",
   "execution_count": 3,
   "metadata": {},
   "outputs": [
    {
     "name": "stdout",
     "output_type": "stream",
     "text": [
      "Give me an odd number between 0 and 50: 2345\n",
      "Give me an odd number between 0 and 50: 0\n",
      "Give me an odd number between 0 and 50: 22\n",
      "Give me an odd number between 0 and 50: 37\n",
      "Number to skip is: 37\n",
      "Here is an odd number: 1\n",
      "Here is an odd number: 3\n",
      "Here is an odd number: 5\n",
      "Here is an odd number: 7\n",
      "Here is an odd number: 9\n",
      "Here is an odd number: 11\n",
      "Here is an odd number: 13\n",
      "Here is an odd number: 15\n",
      "Here is an odd number: 17\n",
      "Here is an odd number: 19\n",
      "Here is an odd number: 21\n",
      "Here is an odd number: 23\n",
      "Here is an odd number: 25\n",
      "Here is an odd number: 27\n",
      "Here is an odd number: 29\n",
      "Here is an odd number: 31\n",
      "Here is an odd number: 33\n",
      "Here is an odd number: 35\n",
      "Yikes! Skipping number 37\n",
      "Here is an odd number: 39\n",
      "Here is an odd number: 41\n",
      "Here is an odd number: 43\n",
      "Here is an odd number: 45\n",
      "Here is an odd number: 47\n",
      "Here is an odd number: 49\n"
     ]
    }
   ],
   "source": [
    "while True:\n",
    "    odd_num = input(\"Give me an odd number between 0 and 50: \")\n",
    "    if odd_num.isdigit() and int(odd_num) > 0 and int(odd_num) < 50 and int(odd_num) % 2 != 0:\n",
    "        break\n",
    "print(\"Number to skip is:\" + \" \" + str(odd_num))\n",
    "for i in range(1, 51, 2):\n",
    "    if int(odd_num) != i:\n",
    "        print(\"Here is an odd number:\" + \" \" + str(i))\n",
    "    else:\n",
    "        print(\"Yikes! Skipping number\" + \" \" + str(odd_num))"
   ]
  },
  {
   "cell_type": "code",
   "execution_count": 4,
   "metadata": {},
   "outputs": [
    {
     "data": {
      "text/plain": [
       "3"
      ]
     },
     "execution_count": 4,
     "metadata": {},
     "output_type": "execute_result"
    }
   ],
   "source": [
    "max([1, 2, 3])"
   ]
  },
  {
   "cell_type": "code",
   "execution_count": 5,
   "metadata": {},
   "outputs": [
    {
     "data": {
      "text/plain": [
       "int"
      ]
     },
     "execution_count": 5,
     "metadata": {},
     "output_type": "execute_result"
    }
   ],
   "source": [
    "type(max([1, 2, 3]))"
   ]
  },
  {
   "cell_type": "code",
   "execution_count": 6,
   "metadata": {},
   "outputs": [
    {
     "data": {
      "text/plain": [
       "builtin_function_or_method"
      ]
     },
     "execution_count": 6,
     "metadata": {},
     "output_type": "execute_result"
    }
   ],
   "source": [
    "type(max)"
   ]
  },
  {
   "cell_type": "code",
   "execution_count": 7,
   "metadata": {},
   "outputs": [
    {
     "data": {
      "text/plain": [
       "<function print>"
      ]
     },
     "execution_count": 7,
     "metadata": {},
     "output_type": "execute_result"
    }
   ],
   "source": [
    "print"
   ]
  },
  {
   "cell_type": "code",
   "execution_count": 8,
   "metadata": {},
   "outputs": [
    {
     "name": "stdout",
     "output_type": "stream",
     "text": [
      "\n"
     ]
    }
   ],
   "source": [
    "print()"
   ]
  },
  {
   "cell_type": "code",
   "execution_count": 9,
   "metadata": {},
   "outputs": [],
   "source": [
    "def increment(n):\n",
    "    return n + 1"
   ]
  },
  {
   "cell_type": "code",
   "execution_count": 10,
   "metadata": {},
   "outputs": [
    {
     "data": {
      "text/plain": [
       "31"
      ]
     },
     "execution_count": 10,
     "metadata": {},
     "output_type": "execute_result"
    }
   ],
   "source": [
    "increment(30)"
   ]
  },
  {
   "cell_type": "code",
   "execution_count": 11,
   "metadata": {},
   "outputs": [],
   "source": [
    "def increment(n):\n",
    "    print(n + 1)"
   ]
  },
  {
   "cell_type": "code",
   "execution_count": 12,
   "metadata": {},
   "outputs": [
    {
     "name": "stdout",
     "output_type": "stream",
     "text": [
      "7\n"
     ]
    }
   ],
   "source": [
    "increment(6)"
   ]
  },
  {
   "cell_type": "code",
   "execution_count": 2,
   "metadata": {},
   "outputs": [],
   "source": [
    "def nonzero(n):\n",
    "    if n != 0:\n",
    "        return True\n",
    "    else:\n",
    "        return False"
   ]
  },
  {
   "cell_type": "code",
   "execution_count": 25,
   "metadata": {},
   "outputs": [
    {
     "data": {
      "text/plain": [
       "False"
      ]
     },
     "execution_count": 25,
     "metadata": {},
     "output_type": "execute_result"
    }
   ],
   "source": [
    "nonzero(0)"
   ]
  },
  {
   "cell_type": "code",
   "execution_count": 4,
   "metadata": {},
   "outputs": [
    {
     "name": "stdout",
     "output_type": "stream",
     "text": [
      "pick a number: 0\n",
      "We got a zero\n"
     ]
    }
   ],
   "source": [
    "user_num = input(\"pick a number: \")\n",
    "if nonzero(int(user_num)):\n",
    "    print(\"That is not a zero\")\n",
    "else:\n",
    "    print(\"We got a zero\")"
   ]
  },
  {
   "cell_type": "code",
   "execution_count": null,
   "metadata": {},
   "outputs": [],
   "source": [
    "\n"
   ]
  },
  {
   "cell_type": "code",
   "execution_count": null,
   "metadata": {},
   "outputs": [],
   "source": [
    "user_num = input(\"pick a number: \")\n",
    "if nonzero(int(user_num)):\n",
    "    print(\"That is not a zero\")\n",
    "else:\n",
    "    print(\"We got a zero\")"
   ]
  },
  {
   "cell_type": "code",
   "execution_count": 1,
   "metadata": {},
   "outputs": [
    {
     "ename": "NameError",
     "evalue": "name 'x' is not defined",
     "output_type": "error",
     "traceback": [
      "\u001b[0;31m---------------------------------------------------------------------------\u001b[0m",
      "\u001b[0;31mNameError\u001b[0m                                 Traceback (most recent call last)",
      "\u001b[0;32m<ipython-input-1-70a1bd7dad42>\u001b[0m in \u001b[0;36m<module>\u001b[0;34m\u001b[0m\n\u001b[1;32m      2\u001b[0m     \u001b[0mx\u001b[0m \u001b[0;34m=\u001b[0m \u001b[0mx\u001b[0m \u001b[0;34m+\u001b[0m \u001b[0;36m1\u001b[0m\u001b[0;34m\u001b[0m\u001b[0;34m\u001b[0m\u001b[0m\n\u001b[1;32m      3\u001b[0m     \u001b[0mx\u001b[0m \u001b[0;34m=\u001b[0m \u001b[0;36m42\u001b[0m\u001b[0;34m\u001b[0m\u001b[0;34m\u001b[0m\u001b[0m\n\u001b[0;32m----> 4\u001b[0;31m \u001b[0mprint\u001b[0m\u001b[0;34m(\u001b[0m\u001b[0mx\u001b[0m\u001b[0;34m)\u001b[0m\u001b[0;34m\u001b[0m\u001b[0;34m\u001b[0m\u001b[0m\n\u001b[0m\u001b[1;32m      5\u001b[0m \u001b[0mchange_it\u001b[0m\u001b[0;34m(\u001b[0m\u001b[0mx\u001b[0m\u001b[0;34m)\u001b[0m\u001b[0;34m\u001b[0m\u001b[0;34m\u001b[0m\u001b[0m\n\u001b[1;32m      6\u001b[0m \u001b[0mprint\u001b[0m\u001b[0;34m(\u001b[0m\u001b[0mx\u001b[0m\u001b[0;34m)\u001b[0m\u001b[0;34m\u001b[0m\u001b[0;34m\u001b[0m\u001b[0m\n",
      "\u001b[0;31mNameError\u001b[0m: name 'x' is not defined"
     ]
    }
   ],
   "source": [
    "def change_it(x):\n",
    "    x = x + 1\n",
    "    x = 42\n",
    "print(x)\n",
    "change_it(x)\n",
    "print(x)"
   ]
  },
  {
   "cell_type": "code",
   "execution_count": null,
   "metadata": {},
   "outputs": [],
   "source": [
    "sorted(students, key = lambda s: s['name'].split()[1])"
   ]
  },
  {
   "cell_type": "code",
   "execution_count": 10,
   "metadata": {},
   "outputs": [],
   "source": [
    "def is_two(x):\n",
    "    if int(x) == 2:\n",
    "        return True\n",
    "    else:\n",
    "        return False"
   ]
  },
  {
   "cell_type": "code",
   "execution_count": 3,
   "metadata": {},
   "outputs": [
    {
     "data": {
      "text/plain": [
       "False"
      ]
     },
     "execution_count": 3,
     "metadata": {},
     "output_type": "execute_result"
    }
   ],
   "source": [
    "is_two(8)"
   ]
  },
  {
   "cell_type": "code",
   "execution_count": 11,
   "metadata": {},
   "outputs": [
    {
     "data": {
      "text/plain": [
       "True"
      ]
     },
     "execution_count": 11,
     "metadata": {},
     "output_type": "execute_result"
    }
   ],
   "source": [
    "is_two(2)"
   ]
  },
  {
   "cell_type": "code",
   "execution_count": 12,
   "metadata": {},
   "outputs": [],
   "source": [
    "def is_vowel(x):\n",
    "    vowel = 'aeiou'\n",
    "    if x.lower() in vowel:\n",
    "        return True\n",
    "    else:\n",
    "        return False"
   ]
  },
  {
   "cell_type": "code",
   "execution_count": 13,
   "metadata": {},
   "outputs": [
    {
     "data": {
      "text/plain": [
       "True"
      ]
     },
     "execution_count": 13,
     "metadata": {},
     "output_type": "execute_result"
    }
   ],
   "source": [
    "is_vowel(\"e\")\n"
   ]
  },
  {
   "cell_type": "code",
   "execution_count": 14,
   "metadata": {},
   "outputs": [
    {
     "data": {
      "text/plain": [
       "False"
      ]
     },
     "execution_count": 14,
     "metadata": {},
     "output_type": "execute_result"
    }
   ],
   "source": [
    "is_vowel(\"d\")"
   ]
  },
  {
   "cell_type": "code",
   "execution_count": 15,
   "metadata": {},
   "outputs": [
    {
     "data": {
      "text/plain": [
       "True"
      ]
     },
     "execution_count": 15,
     "metadata": {},
     "output_type": "execute_result"
    }
   ],
   "source": [
    "is_vowel(\"O\")"
   ]
  },
  {
   "cell_type": "code",
   "execution_count": 19,
   "metadata": {},
   "outputs": [],
   "source": [
    "def is_consonant(x):\n",
    "    vowel = 'aeiou'\n",
    "    if x.lower() not in vowel:\n",
    "        return True\n",
    "    else:\n",
    "        return False"
   ]
  },
  {
   "cell_type": "code",
   "execution_count": 20,
   "metadata": {},
   "outputs": [
    {
     "data": {
      "text/plain": [
       "True"
      ]
     },
     "execution_count": 20,
     "metadata": {},
     "output_type": "execute_result"
    }
   ],
   "source": [
    "is_consonant('x')"
   ]
  },
  {
   "cell_type": "code",
   "execution_count": 21,
   "metadata": {},
   "outputs": [
    {
     "data": {
      "text/plain": [
       "False"
      ]
     },
     "execution_count": 21,
     "metadata": {},
     "output_type": "execute_result"
    }
   ],
   "source": [
    "is_consonant(\"E\")"
   ]
  },
  {
   "cell_type": "code",
   "execution_count": 22,
   "metadata": {},
   "outputs": [
    {
     "data": {
      "text/plain": [
       "True"
      ]
     },
     "execution_count": 22,
     "metadata": {},
     "output_type": "execute_result"
    }
   ],
   "source": [
    "is_consonant(\"D\")"
   ]
  },
  {
   "cell_type": "code",
   "execution_count": 27,
   "metadata": {},
   "outputs": [],
   "source": [
    "def cap_them_cons(x):\n",
    "    vowel = 'aeiou'\n",
    "    if x.lower()[0] not in vowel:\n",
    "        return x.capitalize()\n",
    "    else:\n",
    "        return x"
   ]
  },
  {
   "cell_type": "code",
   "execution_count": 28,
   "metadata": {},
   "outputs": [
    {
     "data": {
      "text/plain": [
       "'Title'"
      ]
     },
     "execution_count": 28,
     "metadata": {},
     "output_type": "execute_result"
    }
   ],
   "source": [
    "cap_them_cons('title')"
   ]
  },
  {
   "cell_type": "code",
   "execution_count": 29,
   "metadata": {},
   "outputs": [
    {
     "data": {
      "text/plain": [
       "'abbicus'"
      ]
     },
     "execution_count": 29,
     "metadata": {},
     "output_type": "execute_result"
    }
   ],
   "source": [
    "cap_them_cons('abbicus')"
   ]
  },
  {
   "cell_type": "code",
   "execution_count": 30,
   "metadata": {},
   "outputs": [],
   "source": [
    "def calculate_tip(x, y):\n",
    "    return x * y"
   ]
  },
  {
   "cell_type": "code",
   "execution_count": 31,
   "metadata": {},
   "outputs": [
    {
     "data": {
      "text/plain": [
       "24.6"
      ]
     },
     "execution_count": 31,
     "metadata": {},
     "output_type": "execute_result"
    }
   ],
   "source": [
    "calculate_tip(123, .2)"
   ]
  },
  {
   "cell_type": "code",
   "execution_count": 32,
   "metadata": {},
   "outputs": [],
   "source": [
    "def apply_discount(o_price, percent):\n",
    "    return (1 - (.01 * percent)) * o_price"
   ]
  },
  {
   "cell_type": "code",
   "execution_count": 33,
   "metadata": {},
   "outputs": [
    {
     "data": {
      "text/plain": [
       "75.0"
      ]
     },
     "execution_count": 33,
     "metadata": {},
     "output_type": "execute_result"
    }
   ],
   "source": [
    "apply_discount(percent = 25, o_price = 100)"
   ]
  },
  {
   "cell_type": "code",
   "execution_count": 34,
   "metadata": {},
   "outputs": [
    {
     "data": {
      "text/plain": [
       "9.0"
      ]
     },
     "execution_count": 34,
     "metadata": {},
     "output_type": "execute_result"
    }
   ],
   "source": [
    "apply_discount(o_price = 12, percent = 25)"
   ]
  },
  {
   "cell_type": "code",
   "execution_count": 35,
   "metadata": {},
   "outputs": [
    {
     "ename": "NameError",
     "evalue": "name 'a' is not defined",
     "output_type": "error",
     "traceback": [
      "\u001b[0;31m---------------------------------------------------------------------------\u001b[0m",
      "\u001b[0;31mNameError\u001b[0m                                 Traceback (most recent call last)",
      "\u001b[0;32m<ipython-input-35-28437373994b>\u001b[0m in \u001b[0;36m<module>\u001b[0;34m\u001b[0m\n\u001b[0;32m----> 1\u001b[0;31m \u001b[0msum\u001b[0m\u001b[0;34m(\u001b[0m\u001b[0ma\u001b[0m\u001b[0;34m,\u001b[0m \u001b[0me\u001b[0m \u001b[0;34m,\u001b[0m \u001b[0mi\u001b[0m\u001b[0;34m)\u001b[0m\u001b[0;34m\u001b[0m\u001b[0;34m\u001b[0m\u001b[0m\n\u001b[0m",
      "\u001b[0;31mNameError\u001b[0m: name 'a' is not defined"
     ]
    }
   ],
   "source": [
    "sum(a, e , i)"
   ]
  },
  {
   "cell_type": "code",
   "execution_count": 31,
   "metadata": {},
   "outputs": [],
   "source": [
    "def handle_commas(x):\n",
    "    x = x.replace(',', '')\n",
    "    return x"
   ]
  },
  {
   "cell_type": "code",
   "execution_count": 32,
   "metadata": {},
   "outputs": [
    {
     "data": {
      "text/plain": [
       "'99286'"
      ]
     },
     "execution_count": 32,
     "metadata": {},
     "output_type": "execute_result"
    }
   ],
   "source": [
    "handle_commas(\"99,286\")"
   ]
  },
  {
   "cell_type": "code",
   "execution_count": 65,
   "metadata": {},
   "outputs": [],
   "source": [
    "def get_letter_grade(x):\n",
    "    if x >= 90:\n",
    "        return 'A'\n",
    "    elif x >= 80:\n",
    "        return 'B'\n",
    "    elif x >= 70:\n",
    "        return 'C'\n",
    "    elif x >= 60:\n",
    "        return 'D'\n",
    "    else:\n",
    "        return 'F'"
   ]
  },
  {
   "cell_type": "code",
   "execution_count": 66,
   "metadata": {},
   "outputs": [
    {
     "data": {
      "text/plain": [
       "'B'"
      ]
     },
     "execution_count": 66,
     "metadata": {},
     "output_type": "execute_result"
    }
   ],
   "source": [
    "get_letter_grade(88)\n"
   ]
  },
  {
   "cell_type": "code",
   "execution_count": 67,
   "metadata": {},
   "outputs": [
    {
     "data": {
      "text/plain": [
       "'C'"
      ]
     },
     "execution_count": 67,
     "metadata": {},
     "output_type": "execute_result"
    }
   ],
   "source": [
    "get_letter_grade(76)"
   ]
  },
  {
   "cell_type": "code",
   "execution_count": 68,
   "metadata": {},
   "outputs": [
    {
     "data": {
      "text/plain": [
       "'D'"
      ]
     },
     "execution_count": 68,
     "metadata": {},
     "output_type": "execute_result"
    }
   ],
   "source": [
    "get_letter_grade(69.999)"
   ]
  },
  {
   "cell_type": "code",
   "execution_count": 69,
   "metadata": {},
   "outputs": [
    {
     "data": {
      "text/plain": [
       "'F'"
      ]
     },
     "execution_count": 69,
     "metadata": {},
     "output_type": "execute_result"
    }
   ],
   "source": [
    "get_letter_grade(36)"
   ]
  },
  {
   "cell_type": "code",
   "execution_count": 70,
   "metadata": {},
   "outputs": [
    {
     "data": {
      "text/plain": [
       "'A'"
      ]
     },
     "execution_count": 70,
     "metadata": {},
     "output_type": "execute_result"
    }
   ],
   "source": [
    "get_letter_grade(98)"
   ]
  },
  {
   "cell_type": "code",
   "execution_count": 72,
   "metadata": {},
   "outputs": [],
   "source": [
    "def remove_vowels(x):\n",
    "    vowel = 'aeiou'\n",
    "    for y in x:\n",
    "        if y.lower() in vowel:\n",
    "            x = x.replace(y, '')\n",
    "    return x"
   ]
  },
  {
   "cell_type": "code",
   "execution_count": 73,
   "metadata": {},
   "outputs": [
    {
     "data": {
      "text/plain": [
       "'nngrm'"
      ]
     },
     "execution_count": 73,
     "metadata": {},
     "output_type": "execute_result"
    }
   ],
   "source": [
    "remove_vowels('annagram')"
   ]
  },
  {
   "cell_type": "code",
   "execution_count": 74,
   "metadata": {},
   "outputs": [
    {
     "data": {
      "text/plain": [
       "'dlnqnt'"
      ]
     },
     "execution_count": 74,
     "metadata": {},
     "output_type": "execute_result"
    }
   ],
   "source": [
    "remove_vowels('delinquent')"
   ]
  },
  {
   "cell_type": "code",
   "execution_count": 72,
   "metadata": {},
   "outputs": [],
   "source": [
    "def normalize_name(name):\n",
    "    #removes white space at begginning and end of string\n",
    "    name = name.strip()\n",
    "    #lower cases any capital letters\n",
    "    name = name.lower()\n",
    "    for y in name:\n",
    "    #conditional stating if any individual character is not a letter or space, replace it with nothing\n",
    "        if y not in ('abcdefghijklmnopqrstuvwxyz '):\n",
    "            name = name.replace(y, '')\n",
    "    #conditional stating if a space is found (after stripping) to replace it with an underscore\n",
    "        if y == ' ':\n",
    "            name = name.replace(y, '_')\n",
    "    return name"
   ]
  },
  {
   "cell_type": "code",
   "execution_count": 73,
   "metadata": {},
   "outputs": [
    {
     "data": {
      "text/plain": [
       "'sean_connery'"
      ]
     },
     "execution_count": 73,
     "metadata": {},
     "output_type": "execute_result"
    }
   ],
   "source": [
    "normalize_name('    Sean2 Connery')"
   ]
  },
  {
   "cell_type": "code",
   "execution_count": 23,
   "metadata": {},
   "outputs": [],
   "source": [
    "def cumulative_sum(x):\n",
    "    rnum = 0\n",
    "    rlist = []\n",
    "    for i in range(0, len(x)):\n",
    "        rnum = rnum + x[i]\n",
    "        rlist.append(rnum)\n",
    "    return rlist"
   ]
  },
  {
   "cell_type": "code",
   "execution_count": 24,
   "metadata": {},
   "outputs": [
    {
     "data": {
      "text/plain": [
       "[12, 27, 45, 68]"
      ]
     },
     "execution_count": 24,
     "metadata": {},
     "output_type": "execute_result"
    }
   ],
   "source": [
    "cumulative_sum((12, 15, 18, 23))"
   ]
  },
  {
   "cell_type": "code",
   "execution_count": 74,
   "metadata": {},
   "outputs": [],
   "source": [
    "def twelveto24(time):\n",
    "    adjuster = 0\n",
    "    if time[-2] == 'p' and time[1] != '2':\n",
    "        adjuster = 12\n",
    "    if time[-2] == 'a' and time[1] == '2':\n",
    "        adjuster = -12\n",
    "    for y in time:\n",
    "        if y not in ('1234567890:'):\n",
    "            time = time.replace(y, '')\n",
    "    time = time.split(':')\n",
    "    for i in range(0, len(time)):\n",
    "        time[i] = int(time[i])\n",
    "    time[0] = time[0] + adjuster\n",
    "    time = (str(time[0]) + ':' + str(time[1]))\n",
    "    return time"
   ]
  },
  {
   "cell_type": "code",
   "execution_count": 75,
   "metadata": {},
   "outputs": [
    {
     "data": {
      "text/plain": [
       "'13:38'"
      ]
     },
     "execution_count": 75,
     "metadata": {},
     "output_type": "execute_result"
    }
   ],
   "source": [
    "twelveto24('1:38pm')"
   ]
  },
  {
   "cell_type": "code",
   "execution_count": 76,
   "metadata": {},
   "outputs": [
    {
     "data": {
      "text/plain": [
       "'0:36'"
      ]
     },
     "execution_count": 76,
     "metadata": {},
     "output_type": "execute_result"
    }
   ],
   "source": [
    "twelveto24('12:36am')"
   ]
  },
  {
   "cell_type": "code",
   "execution_count": 77,
   "metadata": {},
   "outputs": [
    {
     "data": {
      "text/plain": [
       "'12:46'"
      ]
     },
     "execution_count": 77,
     "metadata": {},
     "output_type": "execute_result"
    }
   ],
   "source": [
    "twelveto24('12:46pm')"
   ]
  },
  {
   "cell_type": "code",
   "execution_count": 2,
   "metadata": {},
   "outputs": [
    {
     "name": "stdout",
     "output_type": "stream",
     "text": [
      "<itertools.permutations object at 0x7fdf714634f0>\n"
     ]
    }
   ],
   "source": []
  },
  {
   "cell_type": "code",
   "execution_count": 1,
   "metadata": {},
   "outputs": [],
   "source": [
    "import json\n",
    "\n",
    "with open('profiles.json') as profiles:\n",
    "    data = json.load(profiles)"
   ]
  },
  {
   "cell_type": "code",
   "execution_count": 7,
   "metadata": {},
   "outputs": [
    {
     "name": "stdout",
     "output_type": "stream",
     "text": [
      "[{'_id': '54e23c3e46ab53a440b580e8', 'index': 0, 'guid': '9962b468-ef3e-4993-b677-617469bc3008', 'isActive': False, 'balance': '$2,097.02', 'picture': 'http://placehold.it/32x32', 'age': 39, 'eyeColor': 'blue', 'name': 'Hebert Estes', 'gender': 'male', 'company': 'ANDRYX', 'email': 'hebertestes@andryx.com', 'phone': '+1 (866) 456-2268', 'address': '121 Emmons Avenue, Klondike, Kentucky, 5975', 'about': 'Sit cillum deserunt irure laboris tempor fugiat laboris. Amet commodo amet est incididunt. Dolore qui fugiat cillum pariatur dolore excepteur elit ipsum.\\r\\n', 'registered': '2014-11-10T01:44:03 +06:00', 'latitude': -80.157843, 'longitude': 161.93016, 'tags': ['sit', 'occaecat', 'non', 'ea', 'sit', 'laboris', 'exercitation'], 'friends': [{'id': 0, 'name': 'Tanisha Leonard'}, {'id': 1, 'name': 'Dennis Wilson'}, {'id': 2, 'name': 'Lupe Howe'}], 'greeting': 'Hello, Hebert Estes! You have 4 unread messages.', 'favoriteFruit': 'strawberry'}, {'_id': '54e23c3ef5cc0d250968c212', 'index': 1, 'guid': '905f849d-49bf-4a57-b4f3-5d6e4bf1b04c', 'isActive': False, 'balance': '$3,654.02', 'picture': 'http://placehold.it/32x32', 'age': 30, 'eyeColor': 'green', 'name': 'Allison Wynn', 'gender': 'male', 'company': 'PHARMACON', 'email': 'allisonwynn@pharmacon.com', 'phone': '+1 (926) 525-3131', 'address': '724 Brevoort Place, Lodoga, Indiana, 3880', 'about': 'Esse quis cillum sunt occaecat ad et eu incididunt aliquip dolor. Adipisicing labore magna anim cillum nisi. Elit mollit consequat velit nulla cillum excepteur elit ullamco deserunt. Anim aliquip Lorem excepteur ad veniam et labore in qui ullamco. Occaecat sit do incididunt voluptate id magna ea amet.\\r\\n', 'registered': '2014-06-10T13:41:26 +05:00', 'latitude': 55.737207, 'longitude': -167.177561, 'tags': ['enim', 'officia', 'laboris', 'irure', 'veniam', 'occaecat', 'pariatur'], 'friends': [{'id': 0, 'name': 'Curry Cox'}, {'id': 1, 'name': 'Alma Dale'}, {'id': 2, 'name': 'Barbara Mayo'}], 'greeting': 'Hello, Allison Wynn! You have 19 unread messages.', 'favoriteFruit': 'apple'}, {'_id': '54e23c3e09cc6875638cd36b', 'index': 2, 'guid': '1b042d48-9cfa-4db5-8b60-4104165591c3', 'isActive': True, 'balance': '$1,536.02', 'picture': 'http://placehold.it/32x32', 'age': 31, 'eyeColor': 'brown', 'name': 'Jacobs Floyd', 'gender': 'male', 'company': 'QUONK', 'email': 'jacobsfloyd@quonk.com', 'phone': '+1 (853) 537-3315', 'address': '941 Cox Place, Bluffview, Georgia, 5882', 'about': 'Deserunt adipisicing proident exercitation cillum anim consectetur labore exercitation. Commodo reprehenderit laborum enim exercitation. Ullamco nulla culpa aliqua nisi fugiat consectetur deserunt nostrud in eu.\\r\\n', 'registered': '2014-07-30T03:17:32 +05:00', 'latitude': 30.215667, 'longitude': 68.831905, 'tags': ['est', 'aute', 'laborum', 'sint', 'anim', 'sit', 'consectetur'], 'friends': [{'id': 0, 'name': 'Robles Chan'}, {'id': 1, 'name': 'Whitfield Strickland'}, {'id': 2, 'name': 'Lina Melton'}], 'greeting': 'Hello, Jacobs Floyd! You have 5 unread messages.', 'favoriteFruit': 'banana'}, {'_id': '54e23c3e54e4094147a3b1da', 'index': 3, 'guid': '69eb3454-8acc-46f1-a636-c6df00dfb542', 'isActive': False, 'balance': '$3,919.64', 'picture': 'http://placehold.it/32x32', 'age': 20, 'eyeColor': 'green', 'name': 'Fay Hammond', 'gender': 'female', 'company': 'INRT', 'email': 'fayhammond@inrt.com', 'phone': '+1 (922) 429-2592', 'address': '518 Randolph Street, Whitestone, Arizona, 8189', 'about': 'Aliqua sunt exercitation quis cupidatat fugiat nulla laboris occaecat ut reprehenderit qui incididunt. Amet excepteur qui amet mollit sint enim velit est dolor eu. Velit labore ea aute ipsum consequat culpa cupidatat excepteur aliqua. Sit commodo id est deserunt commodo. Labore sit deserunt enim in dolore incididunt. Officia qui est veniam cillum consequat minim duis Lorem esse magna culpa cupidatat cupidatat enim. Amet eiusmod elit qui reprehenderit commodo quis.\\r\\n', 'registered': '2015-01-30T08:05:38 +06:00', 'latitude': 33.825844, 'longitude': -65.969538, 'tags': ['aliqua', 'esse', 'sint', 'pariatur', 'commodo', 'do', 'anim'], 'friends': [{'id': 0, 'name': 'Dudley Booker'}, {'id': 1, 'name': 'Esmeralda Tyler'}, {'id': 2, 'name': 'Rosa Hampton'}], 'greeting': 'Hello, Fay Hammond! You have 10 unread messages.', 'favoriteFruit': 'banana'}, {'_id': '54e23c3e177caf5567ba87ac', 'index': 4, 'guid': '97962c85-7700-4ffa-a01e-2fcbc147fd81', 'isActive': False, 'balance': '$3,681.39', 'picture': 'http://placehold.it/32x32', 'age': 39, 'eyeColor': 'green', 'name': 'Chasity Marsh', 'gender': 'female', 'company': 'WAZZU', 'email': 'chasitymarsh@wazzu.com', 'phone': '+1 (976) 425-2362', 'address': '604 Just Court, Eastvale, Federated States Of Micronesia, 8644', 'about': 'Irure excepteur consequat esse qui tempor deserunt nulla fugiat. Ut excepteur do veniam dolore dolor proident sunt voluptate ad ipsum nisi. Lorem proident deserunt Lorem cupidatat dolor nulla qui id aliqua. Et nulla laborum deserunt tempor ad culpa. Ullamco occaecat adipisicing dolore laborum laborum duis aliqua nisi irure ex. Incididunt tempor Lorem quis dolore.\\r\\n', 'registered': '2014-07-31T06:03:19 +05:00', 'latitude': -31.660978, 'longitude': 37.559095, 'tags': ['aliquip', 'duis', 'irure', 'amet', 'aliquip', 'dolore', 'esse'], 'friends': [{'id': 0, 'name': 'Kristina Glover'}, {'id': 1, 'name': 'Ora Christian'}, {'id': 2, 'name': 'Jacklyn Joseph'}], 'greeting': 'Hello, Chasity Marsh! You have 9 unread messages.', 'favoriteFruit': 'apple'}, {'_id': '54e23c3eaffbb506aa15ec1c', 'index': 5, 'guid': 'fc3e04d1-44c2-449e-891a-d4f8053d14a4', 'isActive': True, 'balance': '$1,694.42', 'picture': 'http://placehold.it/32x32', 'age': 30, 'eyeColor': 'brown', 'name': 'Camacho Cortez', 'gender': 'male', 'company': 'EARTHWAX', 'email': 'camachocortez@earthwax.com', 'phone': '+1 (869) 528-2019', 'address': '101 Haring Street, Nicut, Louisiana, 1473', 'about': 'Qui ad commodo elit voluptate cupidatat exercitation amet ea laborum sunt aliquip nisi irure. Veniam voluptate eiusmod sint aliquip ea. Voluptate voluptate Lorem nulla laborum eiusmod occaecat et nostrud sint in cillum reprehenderit magna nulla. Lorem id fugiat laborum qui mollit amet. Culpa officia ipsum nisi culpa in. Fugiat quis eu cupidatat non culpa in ea velit pariatur non in excepteur.\\r\\n', 'registered': '2014-03-17T12:04:00 +05:00', 'latitude': 74.434627, 'longitude': 69.527088, 'tags': ['et', 'sit', 'in', 'id', 'ullamco', 'elit', 'laborum'], 'friends': [{'id': 0, 'name': 'Sexton Tillman'}, {'id': 1, 'name': 'Boone Steele'}, {'id': 2, 'name': 'Elvia Ward'}], 'greeting': 'Hello, Camacho Cortez! You have 19 unread messages.', 'favoriteFruit': 'apple'}, {'_id': '54e23c3e0fd8074c2ca52667', 'index': 6, 'guid': 'af8d9a03-fde9-4039-b20c-c4708d4cfc3c', 'isActive': False, 'balance': '$1,214.10', 'picture': 'http://placehold.it/32x32', 'age': 35, 'eyeColor': 'green', 'name': 'Avery Flynn', 'gender': 'male', 'company': 'TERSANKI', 'email': 'averyflynn@tersanki.com', 'phone': '+1 (966) 404-2471', 'address': '569 Oakland Place, Beyerville, Puerto Rico, 2395', 'about': 'Minim consequat anim ad et tempor et pariatur cillum ut. Ea Lorem consectetur sunt aliquip ea minim minim id dolore incididunt qui magna. Magna velit labore dolore voluptate ut aliquip esse qui est ipsum cupidatat duis enim. Sunt esse eiusmod cupidatat duis quis sunt anim dolore adipisicing enim dolore aliqua mollit. Commodo sit ad eiusmod reprehenderit.\\r\\n', 'registered': '2014-04-13T10:25:03 +05:00', 'latitude': -89.879409, 'longitude': 143.441709, 'tags': ['quis', 'esse', 'Lorem', 'minim', 'nostrud', 'voluptate', 'laborum'], 'friends': [{'id': 0, 'name': 'Ball Henson'}, {'id': 1, 'name': 'Dalton Mccoy'}, {'id': 2, 'name': 'Carolina Sharp'}], 'greeting': 'Hello, Avery Flynn! You have 13 unread messages.', 'favoriteFruit': 'banana'}, {'_id': '54e23c3eb112d96e4204914d', 'index': 7, 'guid': '95f1c020-f9eb-4a29-b236-e766759d89d0', 'isActive': False, 'balance': '$2,930.31', 'picture': 'http://placehold.it/32x32', 'age': 23, 'eyeColor': 'blue', 'name': 'Michael Cash', 'gender': 'male', 'company': 'ORBIXTAR', 'email': 'michaelcash@orbixtar.com', 'phone': '+1 (996) 439-3660', 'address': '808 Duryea Court, Downsville, Northern Mariana Islands, 2154', 'about': 'Minim proident minim consectetur nostrud dolor reprehenderit. Ea est proident non do cillum eu est dolor Lorem id. Tempor enim incididunt consequat voluptate nulla ipsum voluptate id. Incididunt enim laboris nostrud in exercitation est culpa nulla velit.\\r\\n', 'registered': '2014-05-24T17:56:54 +05:00', 'latitude': -86.621367, 'longitude': -4.06197, 'tags': ['eu', 'sit', 'dolore', 'culpa', 'Lorem', 'in', 'esse'], 'friends': [{'id': 0, 'name': 'Rodgers Nolan'}, {'id': 1, 'name': 'Jewel Marks'}, {'id': 2, 'name': 'Sue Mejia'}], 'greeting': 'Hello, Michael Cash! You have 17 unread messages.', 'favoriteFruit': 'strawberry'}, {'_id': '54e23c3ef30f14d0e5afddf3', 'index': 8, 'guid': 'bde2d56f-2488-40d0-a7d2-21019ee8a18b', 'isActive': False, 'balance': '$1,944.15', 'picture': 'http://placehold.it/32x32', 'age': 25, 'eyeColor': 'green', 'name': 'Madeleine Bray', 'gender': 'female', 'company': 'KIDSTOCK', 'email': 'madeleinebray@kidstock.com', 'phone': '+1 (820) 541-2969', 'address': '684 Stratford Road, Rosine, District Of Columbia, 7177', 'about': 'Ullamco ea esse ullamco commodo quis amet ut ad. Sint eiusmod ullamco minim nostrud amet in ex adipisicing velit cillum Lorem enim nostrud. Deserunt esse incididunt eiusmod commodo ullamco id pariatur tempor duis laboris Lorem. Laboris magna Lorem quis laborum ullamco. Dolor minim magna ut occaecat in consequat consequat in commodo pariatur voluptate pariatur dolore. Quis exercitation cillum labore cillum laborum. Dolore est reprehenderit anim reprehenderit consectetur sit quis ea ut veniam.\\r\\n', 'registered': '2014-08-11T08:54:06 +05:00', 'latitude': 45.118798, 'longitude': -7.698707, 'tags': ['id', 'magna', 'excepteur', 'excepteur', 'excepteur', 'duis', 'excepteur'], 'friends': [{'id': 0, 'name': 'Herrera Doyle'}, {'id': 1, 'name': 'Berger Fisher'}, {'id': 2, 'name': 'Chang Coffey'}], 'greeting': 'Hello, Madeleine Bray! You have 2 unread messages.', 'favoriteFruit': 'strawberry'}, {'_id': '54e23c3ebd80e9c26b057fa3', 'index': 9, 'guid': '75991ca5-05ed-499e-bbb5-f057f86d05d7', 'isActive': True, 'balance': '$2,839.22', 'picture': 'http://placehold.it/32x32', 'age': 37, 'eyeColor': 'blue', 'name': 'Corine French', 'gender': 'female', 'company': 'INTRAWEAR', 'email': 'corinefrench@intrawear.com', 'phone': '+1 (987) 573-3164', 'address': '964 Clara Street, Snyderville, Oklahoma, 3627', 'about': 'Sint cillum laborum labore duis fugiat voluptate adipisicing. Ad culpa et et ea incididunt nulla excepteur officia. Cillum veniam amet ipsum reprehenderit do eiusmod aliqua aute nisi Lorem consectetur esse in incididunt.\\r\\n', 'registered': '2014-06-25T20:17:13 +05:00', 'latitude': -37.637422, 'longitude': 154.195523, 'tags': ['laboris', 'in', 'dolore', 'mollit', 'velit', 'laboris', 'excepteur'], 'friends': [{'id': 0, 'name': 'Greta Hill'}, {'id': 1, 'name': 'Cline Curry'}, {'id': 2, 'name': 'Branch Sawyer'}], 'greeting': 'Hello, Corine French! You have 18 unread messages.', 'favoriteFruit': 'banana'}, {'_id': '54e23c3e6d89c09f5507e7dd', 'index': 10, 'guid': '87cffc18-3acf-40c5-8708-1bb93f1b68de', 'isActive': True, 'balance': '$2,467.31', 'picture': 'http://placehold.it/32x32', 'age': 29, 'eyeColor': 'blue', 'name': 'Trudy Cummings', 'gender': 'female', 'company': 'SPLINX', 'email': 'trudycummings@splinx.com', 'phone': '+1 (925) 403-2797', 'address': '558 Charles Place, Tedrow, California, 9832', 'about': 'Non id adipisicing deserunt non magna ex adipisicing sint esse sint. Laborum ea nostrud Lorem voluptate quis proident eu nisi exercitation in. Consequat occaecat proident officia anim.\\r\\n', 'registered': '2014-03-13T17:54:31 +05:00', 'latitude': -36.185131, 'longitude': -37.774906, 'tags': ['aute', 'occaecat', 'ea', 'pariatur', 'consectetur', 'magna', 'ea'], 'friends': [{'id': 0, 'name': 'Amber Gates'}, {'id': 1, 'name': 'Barron Walsh'}, {'id': 2, 'name': 'Nell Bolton'}], 'greeting': 'Hello, Trudy Cummings! You have 2 unread messages.', 'favoriteFruit': 'strawberry'}, {'_id': '54e23c3e4192cf53edd67c99', 'index': 11, 'guid': '5a5496f1-a027-4c21-85da-c399234cd9a5', 'isActive': True, 'balance': '$3,304.99', 'picture': 'http://placehold.it/32x32', 'age': 21, 'eyeColor': 'brown', 'name': 'Peggy Mayer', 'gender': 'female', 'company': 'ACCUPRINT', 'email': 'peggymayer@accuprint.com', 'phone': '+1 (854) 428-2585', 'address': '830 Willmohr Street, Crenshaw, Missouri, 6032', 'about': 'Aliqua sit enim cillum aliquip ad proident excepteur in consectetur eiusmod. Ipsum sint cillum veniam eiusmod aute sunt et do est tempor. Lorem elit dolor dolore incididunt cillum. Enim occaecat minim sunt cillum est velit cillum deserunt tempor eu.\\r\\n', 'registered': '2014-09-14T07:06:49 +05:00', 'latitude': 48.323912, 'longitude': 22.184821, 'tags': ['commodo', 'esse', 'ad', 'ullamco', 'ea', 'sint', 'ipsum'], 'friends': [{'id': 0, 'name': 'Hopkins Mccall'}, {'id': 1, 'name': 'Nielsen Weeks'}, {'id': 2, 'name': 'Dale Knowles'}], 'greeting': 'Hello, Peggy Mayer! You have 13 unread messages.', 'favoriteFruit': 'strawberry'}, {'_id': '54e23c3eedcc65f0ec3a5496', 'index': 12, 'guid': '759a21c4-5f9c-4189-9c50-c9d8a9f31037', 'isActive': False, 'balance': '$3,844.42', 'picture': 'http://placehold.it/32x32', 'age': 40, 'eyeColor': 'brown', 'name': 'Chan Hurley', 'gender': 'male', 'company': 'ZEAM', 'email': 'chanhurley@zeam.com', 'phone': '+1 (917) 475-3705', 'address': '915 Channel Avenue, Clinton, North Dakota, 6244', 'about': 'Voluptate exercitation ut anim ex adipisicing ut do officia incididunt fugiat cupidatat aliqua. Cillum ullamco irure dolore est consectetur non consequat. Nulla ullamco eu irure qui dolor magna ipsum id in enim voluptate aute. Officia aliqua dolore ut reprehenderit Lorem cillum. Cillum reprehenderit eu cillum aliqua sint eiusmod cupidatat culpa elit in. Fugiat voluptate reprehenderit amet anim qui nisi velit aliqua proident anim.\\r\\n', 'registered': '2014-03-01T14:51:23 +06:00', 'latitude': 85.901051, 'longitude': -74.986179, 'tags': ['minim', 'veniam', 'sit', 'aute', 'irure', 'non', 'eiusmod'], 'friends': [{'id': 0, 'name': 'Reese Grant'}, {'id': 1, 'name': 'Jenna Kinney'}, {'id': 2, 'name': 'Rhea May'}], 'greeting': 'Hello, Chan Hurley! You have 7 unread messages.', 'favoriteFruit': 'apple'}, {'_id': '54e23c3eb813e66c6d33aa82', 'index': 13, 'guid': '6fd14a8e-3158-48eb-a7e1-93fe57b74746', 'isActive': True, 'balance': '$3,594.99', 'picture': 'http://placehold.it/32x32', 'age': 40, 'eyeColor': 'blue', 'name': 'Diaz Pena', 'gender': 'male', 'company': 'SUREPLEX', 'email': 'diazpena@sureplex.com', 'phone': '+1 (986) 511-3050', 'address': '184 Kingsway Place, Grantville, Michigan, 2421', 'about': 'Enim elit amet officia consectetur do Lorem reprehenderit cupidatat exercitation velit. Ex tempor esse consectetur dolore aute et. Cupidatat duis nulla in incididunt nulla ullamco non magna officia commodo anim. Labore quis ullamco est deserunt excepteur duis nostrud deserunt cillum proident. Non eiusmod consectetur pariatur deserunt irure quis exercitation ex incididunt quis dolore pariatur sunt irure. Eu do fugiat laboris tempor culpa.\\r\\n', 'registered': '2014-04-19T20:43:12 +05:00', 'latitude': 6.606991, 'longitude': 81.593748, 'tags': ['excepteur', 'elit', 'ullamco', 'excepteur', 'ad', 'quis', 'dolore'], 'friends': [{'id': 0, 'name': 'Mcmillan Knox'}, {'id': 1, 'name': 'Flossie Dixon'}, {'id': 2, 'name': 'Sears Carson'}], 'greeting': 'Hello, Diaz Pena! You have 13 unread messages.', 'favoriteFruit': 'strawberry'}, {'_id': '54e23c3e502a2f526b689c3e', 'index': 14, 'guid': '459cc82d-7878-42cb-b9c6-073506380036', 'isActive': True, 'balance': '$2,940.24', 'picture': 'http://placehold.it/32x32', 'age': 40, 'eyeColor': 'brown', 'name': 'Heath Castaneda', 'gender': 'male', 'company': 'NETPLODE', 'email': 'heathcastaneda@netplode.com', 'phone': '+1 (944) 478-3741', 'address': '278 Village Road, Sunnyside, Massachusetts, 7496', 'about': 'Consectetur mollit cupidatat ex consectetur eiusmod ut. Cupidatat anim cupidatat cupidatat minim ipsum et quis amet proident pariatur. Do consectetur fugiat quis nisi non. Ut eu consequat consequat in ullamco eiusmod quis cillum sunt dolore anim. Non irure aliqua aliqua enim elit labore consequat.\\r\\n', 'registered': '2014-07-30T21:38:43 +05:00', 'latitude': 69.928876, 'longitude': 33.649878, 'tags': ['elit', 'commodo', 'ut', 'ullamco', 'ullamco', 'velit', 'ullamco'], 'friends': [{'id': 0, 'name': 'Dora Mack'}, {'id': 1, 'name': 'Christensen Camacho'}, {'id': 2, 'name': 'Castro Kelly'}], 'greeting': 'Hello, Heath Castaneda! You have 12 unread messages.', 'favoriteFruit': 'strawberry'}, {'_id': '54e23c3e69d22e49c7fe62de', 'index': 15, 'guid': '33d2bbe5-d6f7-4844-88fc-b9f6af63b373', 'isActive': False, 'balance': '$3,062.41', 'picture': 'http://placehold.it/32x32', 'age': 38, 'eyeColor': 'brown', 'name': 'Greer Blankenship', 'gender': 'male', 'company': 'QUALITERN', 'email': 'greerblankenship@qualitern.com', 'phone': '+1 (957) 482-3874', 'address': '557 Ingraham Street, Brambleton, South Dakota, 8482', 'about': 'Non in excepteur nostrud consectetur. Qui non consectetur officia incididunt elit laboris exercitation exercitation est minim veniam ullamco dolore. Eu sit aute culpa ex sunt amet. Ut et amet Lorem sunt anim pariatur.\\r\\n', 'registered': '2014-03-30T21:39:41 +05:00', 'latitude': -71.093388, 'longitude': 65.740255, 'tags': ['enim', 'eiusmod', 'Lorem', 'reprehenderit', 'nisi', 'anim', 'sunt'], 'friends': [{'id': 0, 'name': 'Woods Norman'}, {'id': 1, 'name': 'Marilyn Haney'}, {'id': 2, 'name': 'Webster Nielsen'}], 'greeting': 'Hello, Greer Blankenship! You have 7 unread messages.', 'favoriteFruit': 'banana'}, {'_id': '54e23c3e42676228c442a669', 'index': 16, 'guid': 'e44604f0-c7a8-4b89-bda3-0f4710ebe28a', 'isActive': False, 'balance': '$3,067.82', 'picture': 'http://placehold.it/32x32', 'age': 32, 'eyeColor': 'green', 'name': 'Coffey Hayes', 'gender': 'male', 'company': 'INQUALA', 'email': 'coffeyhayes@inquala.com', 'phone': '+1 (880) 451-3490', 'address': '490 Durland Place, Craig, Tennessee, 5034', 'about': 'Est esse irure Lorem ullamco veniam fugiat laborum veniam excepteur. Ad enim pariatur nostrud excepteur et nostrud velit dolore ex enim cillum in aliquip fugiat. Nulla laborum exercitation irure magna elit laborum magna ad excepteur. Cillum pariatur Lorem eiusmod ad dolore eiusmod veniam do minim laborum in dolor. Reprehenderit elit ad id voluptate Lorem Lorem dolor cupidatat excepteur. Proident minim ea aute nulla.\\r\\n', 'registered': '2014-04-01T23:04:39 +05:00', 'latitude': -30.662644, 'longitude': 59.806684, 'tags': ['duis', 'est', 'in', 'officia', 'nostrud', 'occaecat', 'mollit'], 'friends': [{'id': 0, 'name': 'Suarez Perry'}, {'id': 1, 'name': 'Marlene Sheppard'}, {'id': 2, 'name': 'Cohen Yates'}], 'greeting': 'Hello, Coffey Hayes! You have 19 unread messages.', 'favoriteFruit': 'strawberry'}, {'_id': '54e23c3e4ac5969958013235', 'index': 17, 'guid': 'fa7e26df-d239-41e8-9aa9-be5e808b6f89', 'isActive': True, 'balance': '$2,646.76', 'picture': 'http://placehold.it/32x32', 'age': 24, 'eyeColor': 'brown', 'name': 'Leanne Hurst', 'gender': 'female', 'company': 'ACCIDENCY', 'email': 'leannehurst@accidency.com', 'phone': '+1 (820) 420-3317', 'address': '196 Columbus Place, Carbonville, New Jersey, 7513', 'about': 'Dolor occaecat dolore ut tempor. Veniam elit anim duis do pariatur. Qui excepteur nisi eiusmod mollit laboris fugiat commodo ipsum reprehenderit labore cillum. Aliquip laborum commodo nisi cupidatat labore nostrud exercitation adipisicing mollit eu magna proident ex Lorem. Nostrud magna sint sint consequat consectetur et sint.\\r\\n', 'registered': '2014-11-10T01:25:55 +06:00', 'latitude': 16.671695, 'longitude': 139.707959, 'tags': ['culpa', 'deserunt', 'tempor', 'quis', 'reprehenderit', 'incididunt', 'est'], 'friends': [{'id': 0, 'name': 'Farley Frank'}, {'id': 1, 'name': 'Pruitt Frye'}, {'id': 2, 'name': 'Simpson Cardenas'}], 'greeting': 'Hello, Leanne Hurst! You have 5 unread messages.', 'favoriteFruit': 'banana'}, {'_id': '54e23c3ed945981ba2580614', 'index': 18, 'guid': 'e608dc5c-fee4-4086-971b-3ebd37bfa137', 'isActive': True, 'balance': '$2,227.79', 'picture': 'http://placehold.it/32x32', 'age': 22, 'eyeColor': 'brown', 'name': 'Ewing Larson', 'gender': 'male', 'company': 'ESCENTA', 'email': 'ewinglarson@escenta.com', 'phone': '+1 (943) 439-3760', 'address': '136 Beard Street, Wattsville, New Hampshire, 2803', 'about': 'Veniam eiusmod exercitation culpa mollit reprehenderit ullamco voluptate voluptate irure qui duis anim et. Laborum dolor quis do voluptate. In pariatur dolor id mollit et enim. Qui ex qui in cillum irure enim non reprehenderit irure et excepteur aliquip eu eu.\\r\\n', 'registered': '2014-07-21T19:17:41 +05:00', 'latitude': 15.903555, 'longitude': -159.721203, 'tags': ['Lorem', 'magna', 'dolor', 'aliquip', 'reprehenderit', 'eu', 'voluptate'], 'friends': [{'id': 0, 'name': 'Suzette Huffman'}, {'id': 1, 'name': 'Paige Santiago'}, {'id': 2, 'name': 'Dollie Fernandez'}], 'greeting': 'Hello, Ewing Larson! You have 16 unread messages.', 'favoriteFruit': 'strawberry'}]\n"
     ]
    }
   ],
   "source": [
    "print(data)"
   ]
  },
  {
   "cell_type": "code",
   "execution_count": 8,
   "metadata": {},
   "outputs": [
    {
     "name": "stdout",
     "output_type": "stream",
     "text": [
      "19\n"
     ]
    }
   ],
   "source": [
    "print(len(data))"
   ]
  },
  {
   "cell_type": "code",
   "execution_count": 14,
   "metadata": {},
   "outputs": [
    {
     "data": {
      "text/plain": [
       "9"
      ]
     },
     "execution_count": 14,
     "metadata": {},
     "output_type": "execute_result"
    }
   ],
   "source": [
    "len([profile for profile in data if profile['isActive']])"
   ]
  },
  {
   "cell_type": "code",
   "execution_count": 15,
   "metadata": {},
   "outputs": [
    {
     "data": {
      "text/plain": [
       "10"
      ]
     },
     "execution_count": 15,
     "metadata": {},
     "output_type": "execute_result"
    }
   ],
   "source": [
    "len([profile for profile in data if profile['isActive'] == False])"
   ]
  },
  {
   "cell_type": "code",
   "execution_count": 43,
   "metadata": {},
   "outputs": [
    {
     "name": "stdout",
     "output_type": "stream",
     "text": [
      "52667.02\n"
     ]
    }
   ],
   "source": [
    "balances = [profile['balance'] for profile in data]\n",
    "temp = []\n",
    "for i in range(0, len(balances)):\n",
    "    balances[i] = balances[i].replace('$', '')\n",
    "    balances[i] = balances[i].replace(',', '')\n",
    "    balances[i] = float(balances[i])\n",
    "print(sum(balances))"
   ]
  },
  {
   "cell_type": "code",
   "execution_count": 3,
   "metadata": {},
   "outputs": [
    {
     "name": "stdout",
     "output_type": "stream",
     "text": [
      "2771.9484210526316\n"
     ]
    }
   ],
   "source": [
    "balances = [profile['balance'] for profile in data]\n",
    "for i in range(0, len(balances)):\n",
    "    balances[i] = balances[i].replace('$', '')\n",
    "    balances[i] = balances[i].replace(',', '')\n",
    "    balances[i] = float(balances[i])\n",
    "print((sum(balances)/(len(balances))))"
   ]
  },
  {
   "cell_type": "code",
   "execution_count": 4,
   "metadata": {},
   "outputs": [
    {
     "name": "stdout",
     "output_type": "stream",
     "text": [
      "3\n",
      "[2097.02, 3654.02, 1536.02, 3919.64, 3681.39, 1694.42, 1214.1, 2930.31, 1944.15, 2839.22, 2467.31, 3304.99, 3844.42, 3594.99, 2940.24, 3062.41, 3067.82, 2646.76, 2227.79]\n"
     ]
    }
   ],
   "source": [
    "balances = [profile['balance'] for profile in data]\n",
    "for i in range(0, len(balances)):\n",
    "    balances[i] = balances[i].replace('$', '')\n",
    "    balances[i] = balances[i].replace(',', '')\n",
    "    balances[i] = float(balances[i])\n",
    "ind = balances.index(max(balances))\n",
    "print(ind)\n",
    "print(balances)"
   ]
  },
  {
   "cell_type": "code",
   "execution_count": 7,
   "metadata": {},
   "outputs": [
    {
     "name": "stdout",
     "output_type": "stream",
     "text": [
      "Avery Flynn\n"
     ]
    }
   ],
   "source": [
    "balances = [profile['balance'] for profile in data]\n",
    "for i in range(0, len(balances)):\n",
    "    balances[i] = balances[i].replace('$', '')\n",
    "    balances[i] = balances[i].replace(',', '')\n",
    "    balances[i] = float(balances[i])\n",
    "ind = balances.index(min(balances))\n",
    "print(data[ind]['name'])"
   ]
  },
  {
   "cell_type": "code",
   "execution_count": 10,
   "metadata": {},
   "outputs": [
    {
     "name": "stdout",
     "output_type": "stream",
     "text": [
      "['strawberry', 'apple', 'banana', 'banana', 'apple', 'apple', 'banana', 'strawberry', 'strawberry', 'banana', 'strawberry', 'strawberry', 'apple', 'strawberry', 'strawberry', 'banana', 'strawberry', 'banana', 'strawberry']\n"
     ]
    }
   ],
   "source": [
    "fruits = [profile['favoriteFruit'] for profile in data]\n",
    "print(fruits)"
   ]
  },
  {
   "cell_type": "code",
   "execution_count": 14,
   "metadata": {
    "scrolled": true
   },
   "outputs": [
    {
     "name": "stdout",
     "output_type": "stream",
     "text": [
      "None\n",
      "['strawberry', 'apple', 'banana', 'banana', 'apple', 'apple', 'banana', 'strawberry', 'strawberry', 'banana', 'strawberry', 'strawberry', 'apple', 'strawberry', 'strawberry', 'banana', 'strawberry', 'banana', 'strawberry']\n"
     ]
    }
   ],
   "source": [
    "fruits = [profile['favoriteFruit'] for profile in data]\n",
    "for i in range(0, len(fruits)):\n",
    "    count = []\n",
    "    count = count.append(fruits.count(fruits[i]))\n",
    "print(count)\n",
    "print(fruits)"
   ]
  },
  {
   "cell_type": "code",
   "execution_count": 22,
   "metadata": {},
   "outputs": [
    {
     "name": "stdout",
     "output_type": "stream",
     "text": [
      "strawberry\n"
     ]
    }
   ],
   "source": [
    "from collections import Counter\n",
    "fruits = [profile['favoriteFruit'] for profile in data]\n",
    "count = Counter(fruits)\n",
    "print(list(count.keys())[0])"
   ]
  },
  {
   "cell_type": "code",
   "execution_count": 24,
   "metadata": {},
   "outputs": [
    {
     "name": "stdout",
     "output_type": "stream",
     "text": [
      "banana\n",
      "Counter({'strawberry': 9, 'banana': 6, 'apple': 4})\n"
     ]
    }
   ],
   "source": [
    "from collections import Counter\n",
    "fruits = [profile['favoriteFruit'] for profile in data]\n",
    "count = Counter(fruits)\n",
    "print(list(count.keys())[-1])"
   ]
  },
  {
   "cell_type": "code",
   "execution_count": 34,
   "metadata": {},
   "outputs": [
    {
     "ename": "SyntaxError",
     "evalue": "unexpected EOF while parsing (<ipython-input-34-39fa3b0f1601>, line 4)",
     "output_type": "error",
     "traceback": [
      "\u001b[0;36m  File \u001b[0;32m\"<ipython-input-34-39fa3b0f1601>\"\u001b[0;36m, line \u001b[0;32m4\u001b[0m\n\u001b[0;31m    for word in message:\u001b[0m\n\u001b[0m                        ^\u001b[0m\n\u001b[0;31mSyntaxError\u001b[0m\u001b[0;31m:\u001b[0m unexpected EOF while parsing\n"
     ]
    }
   ],
   "source": [
    "messages = [profile['greeting'] for profile in data]\n",
    "numbers = []\n",
    "for message in messages:\n",
    "    for word in message.split():\n",
    "        if word.isdigit:\n",
    "            \n",
    "        "
   ]
  },
  {
   "cell_type": "code",
   "execution_count": null,
   "metadata": {},
   "outputs": [],
   "source": []
  }
 ],
 "metadata": {
  "kernelspec": {
   "display_name": "Python 3",
   "language": "python",
   "name": "python3"
  },
  "language_info": {
   "codemirror_mode": {
    "name": "ipython",
    "version": 3
   },
   "file_extension": ".py",
   "mimetype": "text/x-python",
   "name": "python",
   "nbconvert_exporter": "python",
   "pygments_lexer": "ipython3",
   "version": "3.8.5"
  }
 },
 "nbformat": 4,
 "nbformat_minor": 4
}
