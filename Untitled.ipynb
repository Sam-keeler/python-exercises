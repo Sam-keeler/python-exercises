{
 "cells": [
  {
   "cell_type": "code",
   "execution_count": 1,
   "metadata": {},
   "outputs": [
    {
     "name": "stdout",
     "output_type": "stream",
     "text": [
      "11\n"
     ]
    }
   ],
   "source": [
    "print(3 + 8)"
   ]
  },
  {
   "cell_type": "code",
   "execution_count": 2,
   "metadata": {},
   "outputs": [
    {
     "name": "stdout",
     "output_type": "stream",
     "text": [
      "6\n"
     ]
    }
   ],
   "source": [
    "print(len('square'))"
   ]
  },
  {
   "cell_type": "code",
   "execution_count": 3,
   "metadata": {},
   "outputs": [
    {
     "name": "stdout",
     "output_type": "stream",
     "text": [
      "256\n"
     ]
    }
   ],
   "source": [
    "print(2**8)"
   ]
  },
  {
   "cell_type": "code",
   "execution_count": 1,
   "metadata": {},
   "outputs": [],
   "source": [
    "fruits = ['mango', 'kiwi', 'strawberry', 'guava', 'pineapple', 'mandarin orange']\n",
    "\n",
    "numbers = [2, 3, 4, 5, 6, 7, 8, 9, 10, 11, 13, 17, 19, 23, 256, -8, -4, -2, 5, -9]\n"
   ]
  },
  {
   "cell_type": "code",
   "execution_count": 2,
   "metadata": {},
   "outputs": [
    {
     "name": "stdout",
     "output_type": "stream",
     "text": [
      "['mango', 'kiwi', 'strawberry', 'guava', 'pineapple', 'mandarin orange']\n"
     ]
    }
   ],
   "source": [
    "print(fruits)"
   ]
  },
  {
   "cell_type": "code",
   "execution_count": 4,
   "metadata": {},
   "outputs": [
    {
     "name": "stdout",
     "output_type": "stream",
     "text": [
      "['MANGO', 'KIWI', 'STRAWBERRY', 'GUAVA', 'PINEAPPLE', 'MANDARIN ORANGE']\n"
     ]
    }
   ],
   "source": [
    "uppercased_fruits = [x.upper() for x in fruits]\n",
    "print(uppercased_fruits)"
   ]
  },
  {
   "cell_type": "code",
   "execution_count": 17,
   "metadata": {},
   "outputs": [
    {
     "name": "stdout",
     "output_type": "stream",
     "text": [
      "['Mango', 'Kiwi', 'Strawberry', 'Guava', 'Pineapple', 'Mandarin orange', 'Plum', 'Cherry']\n"
     ]
    }
   ],
   "source": [
    "capital_fruits = [x.capitalize() for x in fruits]\n",
    "print(capital_fruits)"
   ]
  },
  {
   "cell_type": "code",
   "execution_count": 16,
   "metadata": {},
   "outputs": [
    {
     "name": "stdout",
     "output_type": "stream",
     "text": [
      "['mango', 'kiwi', 'strawberry', 'guava', 'pineapple', 'mandarin orange']\n"
     ]
    }
   ],
   "source": [
    "vowels = 'aeiouAEIOU'\n",
    "fruits_with_more_than_two_vowels = []\n",
    "count = 0\n",
    "for x in fruits:\n",
    "    for char in x:\n",
    "        if char in vowels:\n",
    "            count = count + 1\n",
    "    if count >= 2:\n",
    "        fruits_with_more_than_two_vowels.append(x)\n",
    "    count = 0\n",
    "print(fruits_with_more_than_two_vowels)"
   ]
  },
  {
   "cell_type": "code",
   "execution_count": 19,
   "metadata": {},
   "outputs": [
    {
     "name": "stdout",
     "output_type": "stream",
     "text": [
      "['mango', 'kiwi', 'strawberry']\n"
     ]
    }
   ],
   "source": [
    "vowels = 'aeiouAEIOU'\n",
    "fruits_with_only_two_vowels = []\n",
    "count = 0\n",
    "for x in fruits:\n",
    "    for char in x:\n",
    "        if char in vowels:\n",
    "            count = count + 1\n",
    "    if count == 2:\n",
    "        fruits_with_only_two_vowels.append(x)\n",
    "    count = 0\n",
    "print(fruits_with_only_two_vowels)"
   ]
  },
  {
   "cell_type": "code",
   "execution_count": 2,
   "metadata": {},
   "outputs": [
    {
     "name": "stdout",
     "output_type": "stream",
     "text": [
      "['kiwi']\n"
     ]
    }
   ],
   "source": [
    "fruits_less_five = []\n",
    "for x in fruits:\n",
    "    if len(x) < 5:\n",
    "        fruits_less_five.append(x)\n",
    "print(fruits_less_five)"
   ]
  },
  {
   "cell_type": "code",
   "execution_count": 6,
   "metadata": {},
   "outputs": [
    {
     "name": "stdout",
     "output_type": "stream",
     "text": [
      "Whay day is it: Monday\n",
      "It is Monday\n"
     ]
    }
   ],
   "source": [
    "day = input(\"Whay day is it: \")\n",
    "if str(day).lower() == \"monday\":\n",
    "    print(\"It is Monday\")\n",
    "else:\n",
    "    print(\"It most certainly is not Monday\")"
   ]
  },
  {
   "cell_type": "code",
   "execution_count": 10,
   "metadata": {},
   "outputs": [
    {
     "name": "stdout",
     "output_type": "stream",
     "text": [
      "What day is it :sunday\n",
      "WEEKEND BABY\n"
     ]
    }
   ],
   "source": [
    "weekday = input(\"What day is it : \")\n",
    "if str(weekday).lower() == \"saturday\" or str(weekday).lower() == \"sunday\":\n",
    "    print(\"WEEKEND BABY\")\n",
    "else:\n",
    "    print(\"It's a weekday\")"
   ]
  },
  {
   "cell_type": "code",
   "execution_count": 15,
   "metadata": {},
   "outputs": [
    {
     "name": "stdout",
     "output_type": "stream",
     "text": [
      "How many hours have you worked this week? 5\n",
      "100.0\n"
     ]
    }
   ],
   "source": [
    "rate = 20\n",
    "hours = input(\"How many hours have you worked this week? \")\n",
    "if float(hours) <= 40:\n",
    "    paycheck = rate * float(hours)\n",
    "else:\n",
    "    paycheck = (40 * rate) + ((float(hours) - 40) * rate * 1.5)\n",
    "print(paycheck)"
   ]
  },
  {
   "cell_type": "code",
   "execution_count": 19,
   "metadata": {},
   "outputs": [
    {
     "name": "stdout",
     "output_type": "stream",
     "text": [
      "5\n",
      "6\n",
      "7\n",
      "8\n",
      "9\n",
      "10\n",
      "11\n",
      "12\n",
      "13\n",
      "14\n",
      "15\n"
     ]
    }
   ],
   "source": [
    "i = 5\n",
    "while i <= 15:\n",
    "    print(i)\n",
    "    i = i + 1"
   ]
  },
  {
   "cell_type": "code",
   "execution_count": 20,
   "metadata": {},
   "outputs": [
    {
     "name": "stdout",
     "output_type": "stream",
     "text": [
      "0\n",
      "2\n",
      "4\n",
      "6\n",
      "8\n",
      "10\n",
      "12\n",
      "14\n",
      "16\n",
      "18\n",
      "20\n",
      "22\n",
      "24\n",
      "26\n",
      "28\n",
      "30\n",
      "32\n",
      "34\n",
      "36\n",
      "38\n",
      "40\n",
      "42\n",
      "44\n",
      "46\n",
      "48\n",
      "50\n",
      "52\n",
      "54\n",
      "56\n",
      "58\n",
      "60\n",
      "62\n",
      "64\n",
      "66\n",
      "68\n",
      "70\n",
      "72\n",
      "74\n",
      "76\n",
      "78\n",
      "80\n",
      "82\n",
      "84\n",
      "86\n",
      "88\n",
      "90\n",
      "92\n",
      "94\n",
      "96\n",
      "98\n",
      "100\n"
     ]
    }
   ],
   "source": [
    "x = 0\n",
    "while x <= 100:\n",
    "    print(x)\n",
    "    x = x + 2"
   ]
  },
  {
   "cell_type": "code",
   "execution_count": 21,
   "metadata": {},
   "outputs": [
    {
     "name": "stdout",
     "output_type": "stream",
     "text": [
      "100\n",
      "95\n",
      "90\n",
      "85\n",
      "80\n",
      "75\n",
      "70\n",
      "65\n",
      "60\n",
      "55\n",
      "50\n",
      "45\n",
      "40\n",
      "35\n",
      "30\n",
      "25\n",
      "20\n",
      "15\n",
      "10\n",
      "5\n",
      "0\n",
      "-5\n",
      "-10\n"
     ]
    }
   ],
   "source": [
    "x = 100\n",
    "while x >= -10:\n",
    "    print(x)\n",
    "    x = x - 5"
   ]
  },
  {
   "cell_type": "code",
   "execution_count": 22,
   "metadata": {},
   "outputs": [
    {
     "name": "stdout",
     "output_type": "stream",
     "text": [
      "2\n",
      "4\n",
      "16\n",
      "256\n",
      "65536\n"
     ]
    }
   ],
   "source": [
    "x = 2\n",
    "while x <= 1000000:\n",
    "    print(x)\n",
    "    x = x**2"
   ]
  },
  {
   "cell_type": "code",
   "execution_count": 26,
   "metadata": {},
   "outputs": [
    {
     "name": "stdout",
     "output_type": "stream",
     "text": [
      "100\n",
      "95\n",
      "90\n",
      "85\n",
      "80\n",
      "75\n",
      "70\n",
      "65\n",
      "60\n",
      "55\n",
      "50\n",
      "45\n",
      "40\n",
      "35\n",
      "30\n",
      "25\n",
      "20\n",
      "15\n",
      "10\n",
      "5\n"
     ]
    }
   ],
   "source": [
    "x = 100\n",
    "while x >= 5:\n",
    "    print(x)\n",
    "    x = x - 5"
   ]
  },
  {
   "cell_type": "code",
   "execution_count": 41,
   "metadata": {},
   "outputs": [
    {
     "name": "stdout",
     "output_type": "stream",
     "text": [
      "Gimme a number we're doing math, loser: 12\n",
      "12 X 1 = 12\n",
      "12 X 2 = 24\n",
      "12 X 3 = 36\n",
      "12 X 4 = 48\n",
      "12 X 5 = 60\n",
      "12 X 6 = 72\n",
      "12 X 7 = 84\n",
      "12 X 8 = 96\n",
      "12 X 9 = 108\n",
      "12 X 10 = 120\n"
     ]
    }
   ],
   "source": [
    "number = input(\"Gimme a number we're doing math, loser: \")\n",
    "for i in range(1, 11):\n",
    "    print(str(number) + \" \" + \"X\" + \" \" + str(i) \n",
    "    + \" \" + \"=\" + \" \" + str(int(number) * i))"
   ]
  },
  {
   "cell_type": "code",
   "execution_count": 47,
   "metadata": {},
   "outputs": [
    {
     "name": "stdout",
     "output_type": "stream",
     "text": [
      "1\n",
      "22\n",
      "333\n",
      "4444\n",
      "55555\n",
      "666666\n",
      "7777777\n",
      "88888888\n",
      "999999999\n"
     ]
    }
   ],
   "source": [
    "for i in range(1, 10):\n",
    "    print(i * str(i))"
   ]
  },
  {
   "cell_type": "code",
   "execution_count": 61,
   "metadata": {},
   "outputs": [
    {
     "name": "stdout",
     "output_type": "stream",
     "text": [
      "Give me an odd number between 0 and 50: 26\n"
     ]
    }
   ],
   "source": [
    "odd_num = input(\"Give me an odd number between 0 and 50: \")\n",
    "while not odd_num.isdigit() and int(odd_num) > 0 and int(odd_num) < 50 and int(odd_num) % 2 != 0:\n",
    "    odd_num = input(\"Wrong. Give me an odd number between 0 and 50:\")\n",
    "if odd_num.isdigit() and int(odd_num) > 0 and int(odd_num) < 50 and int(odd_num) % 2 != 0:\n",
    "    print(\"Number to skip is:\" + \" \" + str(odd_num))\n",
    "    for i in range(1, 51, 2):\n",
    "        if int(odd_num) != i:\n",
    "            print(\"Here is an odd number:\" + \" \" + str(i))\n",
    "        else:\n",
    "            print(\"Yikes! Skipping number\" + \" \" + str(odd_num))"
   ]
  },
  {
   "cell_type": "code",
   "execution_count": null,
   "metadata": {},
   "outputs": [],
   "source": []
  }
 ],
 "metadata": {
  "kernelspec": {
   "display_name": "Python 3",
   "language": "python",
   "name": "python3"
  },
  "language_info": {
   "codemirror_mode": {
    "name": "ipython",
    "version": 3
   },
   "file_extension": ".py",
   "mimetype": "text/x-python",
   "name": "python",
   "nbconvert_exporter": "python",
   "pygments_lexer": "ipython3",
   "version": "3.8.5"
  }
 },
 "nbformat": 4,
 "nbformat_minor": 4
}
